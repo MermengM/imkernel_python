{
 "cells": [
  {
   "cell_type": "code",
   "execution_count": 2,
   "metadata": {
    "scrolled": true
   },
   "outputs": [
    {
     "data": {
      "application/vnd.jupyter.widget-view+json": {
       "model_id": "ca5667cdeb964e40b4a2c8627ee4b842",
       "version_major": 2,
       "version_minor": 0
      },
      "text/plain": [
       "HTML(value='<table style=\"border-collapse: collapse; width: 100%;\" border=\"1px solid black;\"><tr><th style=\\'b…"
      ]
     },
     "metadata": {},
     "output_type": "display_data"
    }
   ],
   "source": [
    "from imkernel.htmlShowTable.combineTables import df_to_table,combine_tables,show_html_table\n",
    "import pandas as pd\n",
    "\n",
    "# 示例 DataFrames\n",
    "data1 = {'Name': ['Alice', 'Bob', 'Charlie'],\n",
    "         'Age': [25, 30, 35]}\n",
    "\n",
    "data2 = {'City': ['New York', 'San Francisco', 'Los Angeles'],\n",
    "         'Population': [8000000, 883305, 4000000]}\n",
    "\n",
    "df1 = pd.DataFrame(data1)\n",
    "df2 = pd.DataFrame(data2)\n",
    "\n",
    "table1=df_to_table(df1)\n",
    "table2=df_to_table(df2)\n",
    "# 动态合并多个表格\n",
    "tables = [table1, table2]  # 假设是动态提供的表格\n",
    "table_html = combine_tables(tables)\n",
    "show_html_table(table_html)\n"
   ]
  },
  {
   "cell_type": "code",
   "execution_count": null,
   "metadata": {},
   "outputs": [],
   "source": []
  }
 ],
 "metadata": {
  "kernelspec": {
   "display_name": "Python 3 (ipykernel)",
   "language": "python",
   "name": "python3"
  },
  "language_info": {
   "codemirror_mode": {
    "name": "ipython",
    "version": 3
   },
   "file_extension": ".py",
   "mimetype": "text/x-python",
   "name": "python",
   "nbconvert_exporter": "python",
   "pygments_lexer": "ipython3",
   "version": "3.11.9"
  }
 },
 "nbformat": 4,
 "nbformat_minor": 4
}
