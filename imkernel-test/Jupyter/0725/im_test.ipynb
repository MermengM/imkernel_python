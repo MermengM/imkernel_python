{
 "cells": [
  {
   "cell_type": "code",
   "id": "initial_id",
   "metadata": {
    "ExecuteTime": {
     "end_time": "2024-07-25T09:56:08.672478Z",
     "start_time": "2024-07-25T09:56:08.669552Z"
    }
   },
   "source": [
    "\n",
    "from imkernel.model.industrymodel import parse_model_structure\n",
    "\n"
   ],
   "outputs": [],
   "execution_count": 2
  },
  {
   "cell_type": "markdown",
   "id": "19f11a55e300d372",
   "metadata": {},
   "source": [
    "\n",
    "# 读取IML"
   ]
  },
  {
   "cell_type": "code",
   "id": "9c62c0d1598e71cf",
   "metadata": {
    "ExecuteTime": {
     "end_time": "2024-07-25T09:56:11.108131Z",
     "start_time": "2024-07-25T09:56:11.105327Z"
    }
   },
   "source": [
    "with open('im.txt', 'r', encoding='utf-8') as file:\n",
    "    content = file.read()\n",
    "print(content)\n"
   ],
   "outputs": [
    {
     "name": "stdout",
     "output_type": "stream",
     "text": [
      "Model=[Element,Funtion,Process]\n",
      "Element=[Blade,Machine,cutter]\n",
      "Blade=[BladeCross,FinishingPoint,ClosedBladeCross]\n",
      "BladeCross=[BladePolyLine]\n",
      "BladePolyLine=[ElevenParameters,SectionPoints,CurvePonits,cpts]\n",
      "ElevenParameters=[Chord_Length, Upper_Max_Width, Upper_Max_Width_Loc, Upper_Angle, Upper_tip_coeff, Upper_aft_part_shape, Lower_max_width, Lower_max_width_loc, Lower_Angle, Lower_tip_coef, Lower_aft_part_shape, Tangent_Leading_Edge]\n",
      "SectionPoints=[x,y,z]\n",
      "CurvePonits=[x,y,z]\n",
      "cpts=[x,y,z]\n",
      "FinishingPoint=[x,y,z,i,j,k]\n",
      "Machine=[BasicParameters,MachiningParameters]\n",
      "BasicParameters=[MachineModel]\n",
      "MachiningParameters=[FeedRate,PathSpacing,CuttingDepth,SpindleSpeed,ToolInclinationAngle,ToolRakeAngle,ToolSideAngle,MachiningGCode]\n"
     ]
    }
   ],
   "execution_count": 3
  },
  {
   "cell_type": "markdown",
   "id": "baae4f3d931edde9",
   "metadata": {},
   "source": [
    "## IML到Python内存到json"
   ]
  },
  {
   "cell_type": "code",
   "id": "866d85d39220dd5",
   "metadata": {
    "ExecuteTime": {
     "end_time": "2024-07-25T09:56:12.040281Z",
     "start_time": "2024-07-25T09:56:12.037277Z"
    }
   },
   "source": [
    "\n",
    "model = parse_model_structure(content)\n",
    "print(model.to_json())"
   ],
   "outputs": [
    {
     "name": "stdout",
     "output_type": "stream",
     "text": [
      "{\n",
      "    \"Model\": {\n",
      "        \"Element\": {\n",
      "            \"Blade\": {\n",
      "                \"BladeCross\": {\n",
      "                    \"BladePolyLine\": {\n",
      "                        \"ElevenParameters\": {\n",
      "                            \"Chord_Length\": {},\n",
      "                            \"Upper_Max_Width\": {},\n",
      "                            \"Upper_Max_Width_Loc\": {},\n",
      "                            \"Upper_Angle\": {},\n",
      "                            \"Upper_tip_coeff\": {},\n",
      "                            \"Upper_aft_part_shape\": {},\n",
      "                            \"Lower_max_width\": {},\n",
      "                            \"Lower_max_width_loc\": {},\n",
      "                            \"Lower_Angle\": {},\n",
      "                            \"Lower_tip_coef\": {},\n",
      "                            \"Lower_aft_part_shape\": {},\n",
      "                            \"Tangent_Leading_Edge\": {}\n",
      "                        },\n",
      "                        \"SectionPoints\": {\n",
      "                            \"x\": {},\n",
      "                            \"y\": {},\n",
      "                            \"z\": {}\n",
      "                        },\n",
      "                        \"CurvePonits\": {\n",
      "                            \"x\": {},\n",
      "                            \"y\": {},\n",
      "                            \"z\": {}\n",
      "                        },\n",
      "                        \"cpts\": {\n",
      "                            \"x\": {},\n",
      "                            \"y\": {},\n",
      "                            \"z\": {}\n",
      "                        }\n",
      "                    }\n",
      "                },\n",
      "                \"FinishingPoint\": {\n",
      "                    \"x\": {},\n",
      "                    \"y\": {},\n",
      "                    \"z\": {},\n",
      "                    \"i\": {},\n",
      "                    \"j\": {},\n",
      "                    \"k\": {}\n",
      "                },\n",
      "                \"ClosedBladeCross\": {}\n",
      "            },\n",
      "            \"Machine\": {\n",
      "                \"BasicParameters\": {\n",
      "                    \"MachineModel\": {}\n",
      "                },\n",
      "                \"MachiningParameters\": {\n",
      "                    \"FeedRate\": {},\n",
      "                    \"PathSpacing\": {},\n",
      "                    \"CuttingDepth\": {},\n",
      "                    \"SpindleSpeed\": {},\n",
      "                    \"ToolInclinationAngle\": {},\n",
      "                    \"ToolRakeAngle\": {},\n",
      "                    \"ToolSideAngle\": {},\n",
      "                    \"MachiningGCode\": {}\n",
      "                }\n",
      "            },\n",
      "            \"cutter\": {}\n",
      "        },\n",
      "        \"Funtion\": {},\n",
      "        \"Process\": {}\n",
      "    }\n",
      "}\n"
     ]
    }
   ],
   "execution_count": 4
  },
  {
   "cell_type": "code",
   "id": "c80cbf0b-0899-4d7f-ae63-88d56fe81fbf",
   "metadata": {
    "jupyter": {
     "is_executing": true
    },
    "ExecuteTime": {
     "start_time": "2024-07-25T09:56:12.314297Z"
    }
   },
   "source": [
    "model.to_dataframe()"
   ],
   "outputs": [],
   "execution_count": null
  },
  {
   "metadata": {},
   "cell_type": "code",
   "outputs": [],
   "execution_count": null,
   "source": "",
   "id": "c61d1f5b9c463176"
  }
 ],
 "metadata": {
  "kernelspec": {
   "display_name": "Python 3 (ipykernel)",
   "language": "python",
   "name": "python3"
  },
  "language_info": {
   "codemirror_mode": {
    "name": "ipython",
    "version": 3
   },
   "file_extension": ".py",
   "mimetype": "text/x-python",
   "name": "python",
   "nbconvert_exporter": "python",
   "pygments_lexer": "ipython3",
   "version": "3.11.9"
  }
 },
 "nbformat": 4,
 "nbformat_minor": 5
}
