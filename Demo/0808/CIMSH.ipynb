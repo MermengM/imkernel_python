{
 "cells": [
  {
   "cell_type": "code",
   "id": "initial_id",
   "metadata": {
    "collapsed": true,
    "ExecuteTime": {
     "end_time": "2024-08-08T12:54:16.911685Z",
     "start_time": "2024-08-08T12:54:16.704834Z"
    }
   },
   "source": [
    "from imkernel.model.new_model import BaseNode, Element, UnitObject, UnitParameter, UnitData\n",
    "import pandas as pd"
   ],
   "outputs": [],
   "execution_count": 1
  },
  {
   "metadata": {},
   "cell_type": "markdown",
   "source": "# 统一模型\n",
   "id": "1afa2913508c885"
  },
  {
   "metadata": {},
   "cell_type": "code",
   "outputs": [],
   "execution_count": null,
   "source": "",
   "id": "c1d53ff5cbc030a6"
  },
  {
   "metadata": {},
   "cell_type": "markdown",
   "source": "## 单元模型 - 创建",
   "id": "2e11f727aeb2fb1"
  },
  {
   "metadata": {
    "ExecuteTime": {
     "end_time": "2024-08-08T12:55:36.582326Z",
     "start_time": "2024-08-08T12:55:36.578325Z"
    }
   },
   "cell_type": "code",
   "source": [
    "Blade = pd.DataFrame(data=[\n",
    "    ('Blade', 'BladeCross', 'BladePolyLine'),\n",
    "])\n",
    "Cutter=  pd.DataFrame(data=[\n",
    "    ('machine', 'BasicParameters'),\n",
    "    ('machine', 'MachiningParameter'),\n",
    "    ('cutter', 'BasicParameters'),\n",
    "    ('cutter', 'P_Parameter')\n",
    "])"
   ],
   "id": "14b5fd948cc9adf0",
   "outputs": [],
   "execution_count": 3
  },
  {
   "metadata": {},
   "cell_type": "code",
   "outputs": [],
   "execution_count": null,
   "source": "参数",
   "id": "11d7f885e6cb5c8e"
  },
  {
   "metadata": {},
   "cell_type": "markdown",
   "source": "## 方法模型",
   "id": "5ce22aa6cae31eff"
  },
  {
   "metadata": {},
   "cell_type": "code",
   "outputs": [],
   "execution_count": null,
   "source": "",
   "id": "62ffebc5e936ad43"
  },
  {
   "metadata": {},
   "cell_type": "markdown",
   "source": "## 流程模型\n",
   "id": "4d99cd8a6e4461d8"
  }
 ],
 "metadata": {
  "kernelspec": {
   "display_name": "Python 3",
   "language": "python",
   "name": "python3"
  },
  "language_info": {
   "codemirror_mode": {
    "name": "ipython",
    "version": 2
   },
   "file_extension": ".py",
   "mimetype": "text/x-python",
   "name": "python",
   "nbconvert_exporter": "python",
   "pygments_lexer": "ipython2",
   "version": "2.7.6"
  }
 },
 "nbformat": 4,
 "nbformat_minor": 5
}
