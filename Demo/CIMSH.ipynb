{
 "cells": [
  {
   "cell_type": "code",
   "execution_count": 2,
   "id": "04f03bf0",
   "metadata": {},
   "outputs": [],
   "source": [
    "import pandas as pd"
   ]
  },
  {
   "cell_type": "code",
   "execution_count": 7,
   "id": "43d726d3",
   "metadata": {},
   "outputs": [
    {
     "ename": "NameError",
     "evalue": "name 'Element' is not defined",
     "output_type": "error",
     "traceback": [
      "\u001B[1;31m---------------------------------------------------------------------------\u001B[0m",
      "\u001B[1;31mNameError\u001B[0m                                 Traceback (most recent call last)",
      "Cell \u001B[1;32mIn[7], line 1\u001B[0m\n\u001B[1;32m----> 1\u001B[0m Model\u001B[38;5;241m=\u001B[39mpd\u001B[38;5;241m.\u001B[39mSeries([\u001B[38;5;241m1\u001B[39m,\u001B[38;5;241m2\u001B[39m,\u001B[38;5;241m3\u001B[39m],index\u001B[38;5;241m=\u001B[39m[Element,\u001B[38;5;124m'\u001B[39m\u001B[38;5;124mFuntion\u001B[39m\u001B[38;5;124m'\u001B[39m,\u001B[38;5;124m'\u001B[39m\u001B[38;5;124mProcess\u001B[39m\u001B[38;5;124m'\u001B[39m])\n\u001B[0;32m      2\u001B[0m Model\n",
      "\u001B[1;31mNameError\u001B[0m: name 'Element' is not defined"
     ]
    }
   ],
   "source": [
    "Model = pd.Series([1, 2, 3], index=[Element, 'Funtion', 'Process'])\n",
    "Model\n"
   ]
  },
  {
   "cell_type": "code",
   "execution_count": null,
   "id": "1711ccb5",
   "metadata": {},
   "outputs": [],
   "source": "Element = pd.Series"
  }
 ],
 "metadata": {
  "kernelspec": {
   "display_name": "Python 3 (ipykernel)",
   "language": "python",
   "name": "python3"
  },
  "language_info": {
   "codemirror_mode": {
    "name": "ipython",
    "version": 3
   },
   "file_extension": ".py",
   "mimetype": "text/x-python",
   "name": "python",
   "nbconvert_exporter": "python",
   "pygments_lexer": "ipython3",
   "version": "3.11.5"
  }
 },
 "nbformat": 4,
 "nbformat_minor": 5
}
