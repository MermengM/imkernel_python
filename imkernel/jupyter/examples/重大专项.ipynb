{
 "cells": [
  {
   "cell_type": "markdown",
   "id": "8a4b35a6dd6c51b",
   "metadata": {},
   "source": [
    "#重大专项三维四层统一模型\n"
   ]
  },
  {
   "cell_type": "code",
   "execution_count": 1,
   "id": "45c5693b8b1f809",
   "metadata": {},
   "outputs": [
    {
     "ename": "NameError",
     "evalue": "name 'Element' is not defined",
     "output_type": "error",
     "traceback": [
      "\u001B[1;31m---------------------------------------------------------------------------\u001B[0m",
      "\u001B[1;31mNameError\u001B[0m                                 Traceback (most recent call last)",
      "Cell \u001B[1;32mIn[1], line 1\u001B[0m\n\u001B[1;32m----> 1\u001B[0m Model\u001B[38;5;241m=\u001B[39m[\u001B[43mElement\u001B[49m,Funtion,Process]\n",
      "\u001B[1;31mNameError\u001B[0m: name 'Element' is not defined"
     ]
    }
   ],
   "source": "Model = [Element, Funtion, Process]"
  },
  {
   "cell_type": "code",
   "execution_count": null,
   "id": "f2034b29-8b02-4707-8cbb-54524479555d",
   "metadata": {},
   "outputs": [],
   "source": [
    "    "
   ]
  }
 ],
 "metadata": {
  "kernelspec": {
   "display_name": "Python 3 (ipykernel)",
   "language": "python",
   "name": "python3"
  },
  "language_info": {
   "codemirror_mode": {
    "name": "ipython",
    "version": 3
   },
   "file_extension": ".py",
   "mimetype": "text/x-python",
   "name": "python",
   "nbconvert_exporter": "python",
   "pygments_lexer": "ipython3",
   "version": "3.11.9"
  }
 },
 "nbformat": 4,
 "nbformat_minor": 5
}
