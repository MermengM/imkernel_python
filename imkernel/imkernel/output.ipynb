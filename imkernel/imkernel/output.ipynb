{
 "cells": [
  {
   "cell_type": "code",
   "execution_count": 1,
   "id": "a236a4b8",
   "metadata": {},
   "outputs": [],
   "source": [
    "from treelib import Tree\n"
   ]
  },
  {
   "cell_type": "code",
   "execution_count": 2,
   "id": "987d9d14",
   "metadata": {},
   "outputs": [
    {
     "data": {
      "text/plain": [
       "Node(tag=cutter, identifier=cutter, data=None)"
      ]
     },
     "execution_count": 2,
     "metadata": {},
     "output_type": "execute_result"
    }
   ],
   "source": [
    "tree_element = Tree()\n",
    "tree_element.create_node(\"element_object\", \"element\")\n",
    "tree_element.create_node(\"blade\", \"blade\",\"element\")\n",
    "tree_element.create_node(\"surface\", \"surface\",\"blade\")\n",
    "tree_element.create_node(\"molded_line\", \"molded_line\",\"surface\")\n",
    "tree_element.create_node(\"milling_machine\", \"milling_machine\",\"element\")\n",
    "tree_element.create_node(\"cutter\", \"cutter\",\"milling_machine\")\n"
   ]
  },
  {
   "cell_type": "code",
   "execution_count": 3,
   "id": "04af5ed8",
   "metadata": {},
   "outputs": [
    {
     "data": {
      "text/plain": [
       "Node(tag=complex_surface_machining_parameter_optimization, identifier=complex_surface_machining_parameter_optimization, data=None)"
      ]
     },
     "execution_count": 3,
     "metadata": {},
     "output_type": "execute_result"
    }
   ],
   "source": [
    "tree_method = Tree()\n",
    "tree_method.create_node(\"method\", \"method\")\n",
    "tree_method.create_node(\"blade_design\", \"blade_design\",\"method\")\n",
    "tree_method.create_node(\"surface_generate\", \"surface_generate\",\"blade_design\")\n",
    "tree_method.create_node(\"end_surface_close\", \"end_surface_close\",\"blade_design\")\n",
    "tree_method.create_node(\"molded_line_generate\", \"molded_line_generate\",\"surface_generate\")\n",
    "tree_method.create_node(\"sampling_point\", \"sampling_point\",\"molded_line_generate\")\n",
    "tree_method.create_node(\"eleven_parameter\", \"eleven_parameter\",\"molded_line_generate\")\n",
    "tree_method.create_node(\"blade_milling\", \"blade_milling\",\"method\")\n",
    "tree_method.create_node(\"path_plan\", \"path_plan\",\"blade_milling\")\n",
    "tree_method.create_node(\"technological_design\", \"technological_design\",\"blade_milling\")\n",
    "tree_method.create_node(\"detect\", \"detect\",\"blade_milling\")\n",
    "tree_method.create_node(\"AI_algorithm\", \"AI_algorithm\",\"blade_milling\")\n",
    "tree_method.create_node(\"complex_surface_machining_parameter_filter\", \"complex_surface_machining_parameter_filter\",\"AI_algorithm\")\n",
    "tree_method.create_node(\"complex_surface_machining_parameter_optimization\", \"complex_surface_machining_parameter_optimization\",\"AI_algorithm\")\n"
   ]
  },
  {
   "cell_type": "code",
   "execution_count": 6,
   "id": "88c7be6c",
   "metadata": {},
   "outputs": [
    {
     "name": "stdout",
     "output_type": "stream",
     "text": [
      "procedure\n",
      "├── blade_milling\n",
      "├── blade_milling_detect\n",
      "├── complex_surface_machining_parameter_filter\n",
      "├── complex_surface_machining_parameter_optimization\n",
      "├── end_surface_closing_method\n",
      "├── molded_line_generate\n",
      "├── path_plan\n",
      "├── surface_generate\n",
      "└── technological_design\n",
      "\n"
     ]
    }
   ],
   "source": [
    "tree_procedure = Tree()\n",
    "tree_procedure.create_node(\"procedure\", \"procedure\")\n",
    "tree_procedure.create_node(\"molded_line_generate\", \"molded_line_generate\",\"procedure\")\n",
    "tree_procedure.create_node(\"surface_generate\", \"surface_generate\",\"procedure\")\n",
    "tree_procedure.create_node(\"end_surface_closing_method\", \"end_surface_closing_method\",\"procedure\")\n",
    "tree_procedure.create_node(\"path_plan\", \"path_plan\",\"procedure\")\n",
    "tree_procedure.create_node(\"technological_design\", \"technological_design\",\"procedure\")\n",
    "tree_procedure.create_node(\"blade_milling\", \"blade_milling\",\"procedure\")\n",
    "tree_procedure.create_node(\"blade_milling_detect\", \"blade_milling_detect\",\"procedure\")\n",
    "tree_procedure.create_node(\"complex_surface_machining_parameter_filter\", \"complex_surface_machining_parameter_filter\",\"procedure\")\n",
    "tree_procedure.create_node(\"complex_surface_machining_parameter_optimization\", \"complex_surface_machining_parameter_optimization\",\"procedure\")\n",
    "print(tree_procedure)"
   ]
  },
  {
   "cell_type": "code",
   "execution_count": null,
   "id": "9924bac2-35f3-4a0a-9d5f-1b9431b43d8a",
   "metadata": {},
   "outputs": [],
   "source": []
  },
  {
   "cell_type": "code",
   "execution_count": null,
   "id": "aa44116d-a062-44c0-baed-deee3969a787",
   "metadata": {},
   "outputs": [],
   "source": []
  },
  {
   "cell_type": "code",
   "execution_count": null,
   "id": "12edd09e-07b8-4c52-b627-5d788ca706f8",
   "metadata": {},
   "outputs": [],
   "source": []
  }
 ],
 "metadata": {
  "kernelspec": {
   "display_name": "Python 3 (ipykernel)",
   "language": "python",
   "name": "python3"
  },
  "language_info": {
   "codemirror_mode": {
    "name": "ipython",
    "version": 3
   },
   "file_extension": ".py",
   "mimetype": "text/x-python",
   "name": "python",
   "nbconvert_exporter": "python",
   "pygments_lexer": "ipython3",
   "version": "3.11.9"
  }
 },
 "nbformat": 4,
 "nbformat_minor": 5
}
