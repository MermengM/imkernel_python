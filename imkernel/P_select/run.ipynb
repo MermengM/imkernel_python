{
 "cells": [
  {
   "cell_type": "code",
   "execution_count": 1,
   "id": "04ee408d",
   "metadata": {},
   "outputs": [],
   "source": [
    "import os\n",
    "current_dir = os.getcwd()\n",
    "os.chdir(\"./P_select/IGA/\")\n",
    "import surrogate_model \n",
    "import feature_selection_algorithm "
   ]
  },
  {
   "cell_type": "markdown",
   "id": "5207881d",
   "metadata": {},
   "source": [
    "## 数据处理"
   ]
  },
  {
   "cell_type": "code",
   "execution_count": 2,
   "id": "09a28a32",
   "metadata": {},
   "outputs": [],
   "source": [
    "filename = \"../dataset/Scenario_4\"\n",
    "parameters, labels, parameters_n = surrogate_model.data_processing(filename)"
   ]
  },
  {
   "cell_type": "markdown",
   "id": "0a44a164",
   "metadata": {},
   "source": [
    "## 训练代理模型"
   ]
  },
  {
   "cell_type": "code",
   "execution_count": 3,
   "id": "59f0559b",
   "metadata": {
    "scrolled": true
   },
   "outputs": [],
   "source": [
    "# features = parameters.shape[1]\n",
    "# train_surrogate_func(parameters, labels, features, model_name='Scenario_4', total_epoch=1000)"
   ]
  },
  {
   "cell_type": "markdown",
   "id": "42274d84",
   "metadata": {},
   "source": [
    "## 加载代理模型"
   ]
  },
  {
   "cell_type": "code",
   "execution_count": 4,
   "id": "f9c414cf",
   "metadata": {},
   "outputs": [
    {
     "name": "stdout",
     "output_type": "stream",
     "text": [
      "-----------------------代理模型加载中---------------------------\n",
      "-----------------------代理模型加载完毕---------------------------\n"
     ]
    }
   ],
   "source": [
    "model_name = \"Scenario_4.pth\"\n",
    "net= feature_selection_algorithm.load_surrogate_func(model_name, parameters)"
   ]
  },
  {
   "cell_type": "markdown",
   "id": "25789146",
   "metadata": {},
   "source": [
    "## GA"
   ]
  },
  {
   "cell_type": "code",
   "execution_count": null,
   "id": "0361674a",
   "metadata": {
    "scrolled": true
   },
   "outputs": [
    {
     "name": "stdout",
     "output_type": "stream",
     "text": [
      "-----------------------特征选择中---------------------------\n"
     ]
    }
   ],
   "source": [
    "pc = 0.02\n",
    "t = 200\n",
    "n = 20\n",
    "fitness_change, t = feature_selection_algorithm.GA_select_model(parameters_n, parameters, net, pc, t, n)"
   ]
  },
  {
   "cell_type": "markdown",
   "id": "ff33505f",
   "metadata": {},
   "source": [
    "## 进行特征选择"
   ]
  },
  {
   "cell_type": "markdown",
   "id": "2a7c63a0",
   "metadata": {},
   "source": [
    "## 画图"
   ]
  },
  {
   "cell_type": "code",
   "execution_count": null,
   "id": "70b15e09",
   "metadata": {},
   "outputs": [],
   "source": [
    "feature_selection_algorithm.plot_fitness_change(fitness_change, t, filename=\"fitness_iteration.png\")"
   ]
  },
  {
   "cell_type": "code",
   "execution_count": null,
   "id": "a7f52f86",
   "metadata": {},
   "outputs": [],
   "source": [
    "os.chdir(current_dir)"
   ]
  }
 ],
 "metadata": {
  "kernelspec": {
   "display_name": "Python 3 (ipykernel)",
   "language": "python",
   "name": "python3"
  },
  "language_info": {
   "codemirror_mode": {
    "name": "ipython",
    "version": 3
   },
   "file_extension": ".py",
   "mimetype": "text/x-python",
   "name": "python",
   "nbconvert_exporter": "python",
   "pygments_lexer": "ipython3",
   "version": "3.11.5"
  }
 },
 "nbformat": 4,
 "nbformat_minor": 5
}
